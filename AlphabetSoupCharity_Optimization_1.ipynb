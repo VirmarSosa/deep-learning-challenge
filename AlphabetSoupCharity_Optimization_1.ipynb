{
 "cells": [
  {
   "cell_type": "markdown",
   "metadata": {
    "id": "9RBzwh5xpPy-"
   },
   "source": [
    "## Preprocessing"
   ]
  },
  {
   "cell_type": "code",
   "execution_count": 1,
   "metadata": {
    "colab": {
     "base_uri": "https://localhost:8080/",
     "height": 206
    },
    "executionInfo": {
     "elapsed": 12751,
     "status": "ok",
     "timestamp": 1684980846154,
     "user": {
      "displayName": "Virmar Sosa Boulton",
      "userId": "02079861121357762556"
     },
     "user_tz": 240
    },
    "id": "yK7oeADnpPzB",
    "outputId": "4372b81b-cd0e-4ffb-cbaa-19c4c18adca1"
   },
   "outputs": [
    {
     "data": {
      "text/html": [
       "<div>\n",
       "<style scoped>\n",
       "    .dataframe tbody tr th:only-of-type {\n",
       "        vertical-align: middle;\n",
       "    }\n",
       "\n",
       "    .dataframe tbody tr th {\n",
       "        vertical-align: top;\n",
       "    }\n",
       "\n",
       "    .dataframe thead th {\n",
       "        text-align: right;\n",
       "    }\n",
       "</style>\n",
       "<table border=\"1\" class=\"dataframe\">\n",
       "  <thead>\n",
       "    <tr style=\"text-align: right;\">\n",
       "      <th></th>\n",
       "      <th>EIN</th>\n",
       "      <th>NAME</th>\n",
       "      <th>APPLICATION_TYPE</th>\n",
       "      <th>AFFILIATION</th>\n",
       "      <th>CLASSIFICATION</th>\n",
       "      <th>USE_CASE</th>\n",
       "      <th>ORGANIZATION</th>\n",
       "      <th>STATUS</th>\n",
       "      <th>INCOME_AMT</th>\n",
       "      <th>SPECIAL_CONSIDERATIONS</th>\n",
       "      <th>ASK_AMT</th>\n",
       "      <th>IS_SUCCESSFUL</th>\n",
       "    </tr>\n",
       "  </thead>\n",
       "  <tbody>\n",
       "    <tr>\n",
       "      <th>0</th>\n",
       "      <td>10520599</td>\n",
       "      <td>BLUE KNIGHTS MOTORCYCLE CLUB</td>\n",
       "      <td>T10</td>\n",
       "      <td>Independent</td>\n",
       "      <td>C1000</td>\n",
       "      <td>ProductDev</td>\n",
       "      <td>Association</td>\n",
       "      <td>1</td>\n",
       "      <td>0</td>\n",
       "      <td>N</td>\n",
       "      <td>5000</td>\n",
       "      <td>1</td>\n",
       "    </tr>\n",
       "    <tr>\n",
       "      <th>1</th>\n",
       "      <td>10531628</td>\n",
       "      <td>AMERICAN CHESAPEAKE CLUB CHARITABLE TR</td>\n",
       "      <td>T3</td>\n",
       "      <td>Independent</td>\n",
       "      <td>C2000</td>\n",
       "      <td>Preservation</td>\n",
       "      <td>Co-operative</td>\n",
       "      <td>1</td>\n",
       "      <td>1-9999</td>\n",
       "      <td>N</td>\n",
       "      <td>108590</td>\n",
       "      <td>1</td>\n",
       "    </tr>\n",
       "    <tr>\n",
       "      <th>2</th>\n",
       "      <td>10547893</td>\n",
       "      <td>ST CLOUD PROFESSIONAL FIREFIGHTERS</td>\n",
       "      <td>T5</td>\n",
       "      <td>CompanySponsored</td>\n",
       "      <td>C3000</td>\n",
       "      <td>ProductDev</td>\n",
       "      <td>Association</td>\n",
       "      <td>1</td>\n",
       "      <td>0</td>\n",
       "      <td>N</td>\n",
       "      <td>5000</td>\n",
       "      <td>0</td>\n",
       "    </tr>\n",
       "    <tr>\n",
       "      <th>3</th>\n",
       "      <td>10553066</td>\n",
       "      <td>SOUTHSIDE ATHLETIC ASSOCIATION</td>\n",
       "      <td>T3</td>\n",
       "      <td>CompanySponsored</td>\n",
       "      <td>C2000</td>\n",
       "      <td>Preservation</td>\n",
       "      <td>Trust</td>\n",
       "      <td>1</td>\n",
       "      <td>10000-24999</td>\n",
       "      <td>N</td>\n",
       "      <td>6692</td>\n",
       "      <td>1</td>\n",
       "    </tr>\n",
       "    <tr>\n",
       "      <th>4</th>\n",
       "      <td>10556103</td>\n",
       "      <td>GENETIC RESEARCH INSTITUTE OF THE DESERT</td>\n",
       "      <td>T3</td>\n",
       "      <td>Independent</td>\n",
       "      <td>C1000</td>\n",
       "      <td>Heathcare</td>\n",
       "      <td>Trust</td>\n",
       "      <td>1</td>\n",
       "      <td>100000-499999</td>\n",
       "      <td>N</td>\n",
       "      <td>142590</td>\n",
       "      <td>1</td>\n",
       "    </tr>\n",
       "  </tbody>\n",
       "</table>\n",
       "</div>"
      ],
      "text/plain": [
       "        EIN                                      NAME APPLICATION_TYPE  \\\n",
       "0  10520599              BLUE KNIGHTS MOTORCYCLE CLUB              T10   \n",
       "1  10531628    AMERICAN CHESAPEAKE CLUB CHARITABLE TR               T3   \n",
       "2  10547893        ST CLOUD PROFESSIONAL FIREFIGHTERS               T5   \n",
       "3  10553066            SOUTHSIDE ATHLETIC ASSOCIATION               T3   \n",
       "4  10556103  GENETIC RESEARCH INSTITUTE OF THE DESERT               T3   \n",
       "\n",
       "        AFFILIATION CLASSIFICATION      USE_CASE  ORGANIZATION  STATUS  \\\n",
       "0       Independent          C1000    ProductDev   Association       1   \n",
       "1       Independent          C2000  Preservation  Co-operative       1   \n",
       "2  CompanySponsored          C3000    ProductDev   Association       1   \n",
       "3  CompanySponsored          C2000  Preservation         Trust       1   \n",
       "4       Independent          C1000     Heathcare         Trust       1   \n",
       "\n",
       "      INCOME_AMT SPECIAL_CONSIDERATIONS  ASK_AMT  IS_SUCCESSFUL  \n",
       "0              0                      N     5000              1  \n",
       "1         1-9999                      N   108590              1  \n",
       "2              0                      N     5000              0  \n",
       "3    10000-24999                      N     6692              1  \n",
       "4  100000-499999                      N   142590              1  "
      ]
     },
     "execution_count": 1,
     "metadata": {},
     "output_type": "execute_result"
    }
   ],
   "source": [
    "# Import our dependencies\n",
    "from sklearn.model_selection import train_test_split\n",
    "from sklearn.preprocessing import StandardScaler\n",
    "import pandas as pd\n",
    "import tensorflow as tf\n",
    "\n",
    "#  Import and read the charity_data.csv.\n",
    "import pandas as pd \n",
    "application_df = pd.read_csv(\"https://static.bc-edx.com/data/dl-1-2/m21/lms/starter/charity_data.csv\")\n",
    "application_df.head()"
   ]
  },
  {
   "cell_type": "code",
   "execution_count": 2,
   "metadata": {
    "colab": {
     "base_uri": "https://localhost:8080/",
     "height": 424
    },
    "executionInfo": {
     "elapsed": 7,
     "status": "ok",
     "timestamp": 1684980846155,
     "user": {
      "displayName": "Virmar Sosa Boulton",
      "userId": "02079861121357762556"
     },
     "user_tz": 240
    },
    "id": "IyeMAJ3opPzC",
    "outputId": "b427c1c5-7aac-4c9a-d488-e306b6b1abf2"
   },
   "outputs": [
    {
     "data": {
      "text/html": [
       "<div>\n",
       "<style scoped>\n",
       "    .dataframe tbody tr th:only-of-type {\n",
       "        vertical-align: middle;\n",
       "    }\n",
       "\n",
       "    .dataframe tbody tr th {\n",
       "        vertical-align: top;\n",
       "    }\n",
       "\n",
       "    .dataframe thead th {\n",
       "        text-align: right;\n",
       "    }\n",
       "</style>\n",
       "<table border=\"1\" class=\"dataframe\">\n",
       "  <thead>\n",
       "    <tr style=\"text-align: right;\">\n",
       "      <th></th>\n",
       "      <th>APPLICATION_TYPE</th>\n",
       "      <th>AFFILIATION</th>\n",
       "      <th>CLASSIFICATION</th>\n",
       "      <th>USE_CASE</th>\n",
       "      <th>ORGANIZATION</th>\n",
       "      <th>STATUS</th>\n",
       "      <th>INCOME_AMT</th>\n",
       "      <th>SPECIAL_CONSIDERATIONS</th>\n",
       "      <th>ASK_AMT</th>\n",
       "      <th>IS_SUCCESSFUL</th>\n",
       "    </tr>\n",
       "  </thead>\n",
       "  <tbody>\n",
       "    <tr>\n",
       "      <th>0</th>\n",
       "      <td>T10</td>\n",
       "      <td>Independent</td>\n",
       "      <td>C1000</td>\n",
       "      <td>ProductDev</td>\n",
       "      <td>Association</td>\n",
       "      <td>1</td>\n",
       "      <td>0</td>\n",
       "      <td>N</td>\n",
       "      <td>5000</td>\n",
       "      <td>1</td>\n",
       "    </tr>\n",
       "    <tr>\n",
       "      <th>1</th>\n",
       "      <td>T3</td>\n",
       "      <td>Independent</td>\n",
       "      <td>C2000</td>\n",
       "      <td>Preservation</td>\n",
       "      <td>Co-operative</td>\n",
       "      <td>1</td>\n",
       "      <td>1-9999</td>\n",
       "      <td>N</td>\n",
       "      <td>108590</td>\n",
       "      <td>1</td>\n",
       "    </tr>\n",
       "    <tr>\n",
       "      <th>2</th>\n",
       "      <td>T5</td>\n",
       "      <td>CompanySponsored</td>\n",
       "      <td>C3000</td>\n",
       "      <td>ProductDev</td>\n",
       "      <td>Association</td>\n",
       "      <td>1</td>\n",
       "      <td>0</td>\n",
       "      <td>N</td>\n",
       "      <td>5000</td>\n",
       "      <td>0</td>\n",
       "    </tr>\n",
       "    <tr>\n",
       "      <th>3</th>\n",
       "      <td>T3</td>\n",
       "      <td>CompanySponsored</td>\n",
       "      <td>C2000</td>\n",
       "      <td>Preservation</td>\n",
       "      <td>Trust</td>\n",
       "      <td>1</td>\n",
       "      <td>10000-24999</td>\n",
       "      <td>N</td>\n",
       "      <td>6692</td>\n",
       "      <td>1</td>\n",
       "    </tr>\n",
       "    <tr>\n",
       "      <th>4</th>\n",
       "      <td>T3</td>\n",
       "      <td>Independent</td>\n",
       "      <td>C1000</td>\n",
       "      <td>Heathcare</td>\n",
       "      <td>Trust</td>\n",
       "      <td>1</td>\n",
       "      <td>100000-499999</td>\n",
       "      <td>N</td>\n",
       "      <td>142590</td>\n",
       "      <td>1</td>\n",
       "    </tr>\n",
       "    <tr>\n",
       "      <th>...</th>\n",
       "      <td>...</td>\n",
       "      <td>...</td>\n",
       "      <td>...</td>\n",
       "      <td>...</td>\n",
       "      <td>...</td>\n",
       "      <td>...</td>\n",
       "      <td>...</td>\n",
       "      <td>...</td>\n",
       "      <td>...</td>\n",
       "      <td>...</td>\n",
       "    </tr>\n",
       "    <tr>\n",
       "      <th>34294</th>\n",
       "      <td>T4</td>\n",
       "      <td>Independent</td>\n",
       "      <td>C1000</td>\n",
       "      <td>ProductDev</td>\n",
       "      <td>Association</td>\n",
       "      <td>1</td>\n",
       "      <td>0</td>\n",
       "      <td>N</td>\n",
       "      <td>5000</td>\n",
       "      <td>0</td>\n",
       "    </tr>\n",
       "    <tr>\n",
       "      <th>34295</th>\n",
       "      <td>T4</td>\n",
       "      <td>CompanySponsored</td>\n",
       "      <td>C3000</td>\n",
       "      <td>ProductDev</td>\n",
       "      <td>Association</td>\n",
       "      <td>1</td>\n",
       "      <td>0</td>\n",
       "      <td>N</td>\n",
       "      <td>5000</td>\n",
       "      <td>0</td>\n",
       "    </tr>\n",
       "    <tr>\n",
       "      <th>34296</th>\n",
       "      <td>T3</td>\n",
       "      <td>CompanySponsored</td>\n",
       "      <td>C2000</td>\n",
       "      <td>Preservation</td>\n",
       "      <td>Association</td>\n",
       "      <td>1</td>\n",
       "      <td>0</td>\n",
       "      <td>N</td>\n",
       "      <td>5000</td>\n",
       "      <td>0</td>\n",
       "    </tr>\n",
       "    <tr>\n",
       "      <th>34297</th>\n",
       "      <td>T5</td>\n",
       "      <td>Independent</td>\n",
       "      <td>C3000</td>\n",
       "      <td>ProductDev</td>\n",
       "      <td>Association</td>\n",
       "      <td>1</td>\n",
       "      <td>0</td>\n",
       "      <td>N</td>\n",
       "      <td>5000</td>\n",
       "      <td>1</td>\n",
       "    </tr>\n",
       "    <tr>\n",
       "      <th>34298</th>\n",
       "      <td>T3</td>\n",
       "      <td>Independent</td>\n",
       "      <td>C1000</td>\n",
       "      <td>Preservation</td>\n",
       "      <td>Co-operative</td>\n",
       "      <td>1</td>\n",
       "      <td>1M-5M</td>\n",
       "      <td>N</td>\n",
       "      <td>36500179</td>\n",
       "      <td>0</td>\n",
       "    </tr>\n",
       "  </tbody>\n",
       "</table>\n",
       "<p>34299 rows × 10 columns</p>\n",
       "</div>"
      ],
      "text/plain": [
       "      APPLICATION_TYPE       AFFILIATION CLASSIFICATION      USE_CASE  \\\n",
       "0                  T10       Independent          C1000    ProductDev   \n",
       "1                   T3       Independent          C2000  Preservation   \n",
       "2                   T5  CompanySponsored          C3000    ProductDev   \n",
       "3                   T3  CompanySponsored          C2000  Preservation   \n",
       "4                   T3       Independent          C1000     Heathcare   \n",
       "...                ...               ...            ...           ...   \n",
       "34294               T4       Independent          C1000    ProductDev   \n",
       "34295               T4  CompanySponsored          C3000    ProductDev   \n",
       "34296               T3  CompanySponsored          C2000  Preservation   \n",
       "34297               T5       Independent          C3000    ProductDev   \n",
       "34298               T3       Independent          C1000  Preservation   \n",
       "\n",
       "       ORGANIZATION  STATUS     INCOME_AMT SPECIAL_CONSIDERATIONS   ASK_AMT  \\\n",
       "0       Association       1              0                      N      5000   \n",
       "1      Co-operative       1         1-9999                      N    108590   \n",
       "2       Association       1              0                      N      5000   \n",
       "3             Trust       1    10000-24999                      N      6692   \n",
       "4             Trust       1  100000-499999                      N    142590   \n",
       "...             ...     ...            ...                    ...       ...   \n",
       "34294   Association       1              0                      N      5000   \n",
       "34295   Association       1              0                      N      5000   \n",
       "34296   Association       1              0                      N      5000   \n",
       "34297   Association       1              0                      N      5000   \n",
       "34298  Co-operative       1          1M-5M                      N  36500179   \n",
       "\n",
       "       IS_SUCCESSFUL  \n",
       "0                  1  \n",
       "1                  1  \n",
       "2                  0  \n",
       "3                  1  \n",
       "4                  1  \n",
       "...              ...  \n",
       "34294              0  \n",
       "34295              0  \n",
       "34296              0  \n",
       "34297              1  \n",
       "34298              0  \n",
       "\n",
       "[34299 rows x 10 columns]"
      ]
     },
     "execution_count": 2,
     "metadata": {},
     "output_type": "execute_result"
    }
   ],
   "source": [
    "# Drop the non-beneficial ID columns, 'EIN' and 'NAME'.\n",
    "application_df.drop(columns = ['EIN', 'NAME'], inplace=True)\n",
    "application_df"
   ]
  },
  {
   "cell_type": "code",
   "execution_count": 3,
   "metadata": {
    "colab": {
     "base_uri": "https://localhost:8080/"
    },
    "executionInfo": {
     "elapsed": 217,
     "status": "ok",
     "timestamp": 1684980846366,
     "user": {
      "displayName": "Virmar Sosa Boulton",
      "userId": "02079861121357762556"
     },
     "user_tz": 240
    },
    "id": "Rw4IkUo_pPzD",
    "outputId": "1d0cd451-6591-459b-babf-9475c465b1a6"
   },
   "outputs": [
    {
     "name": "stdout",
     "output_type": "stream",
     "text": [
      "APPLICATION_TYPE 17\n",
      "AFFILIATION 6\n",
      "CLASSIFICATION 71\n",
      "USE_CASE 5\n",
      "ORGANIZATION 4\n",
      "STATUS 2\n",
      "INCOME_AMT 9\n",
      "SPECIAL_CONSIDERATIONS 2\n",
      "ASK_AMT 8747\n",
      "IS_SUCCESSFUL 2\n"
     ]
    }
   ],
   "source": [
    "# Determine the number of unique values in each column.\n",
    "for i in application_df.columns:\n",
    "    print(i, len(application_df[i].unique()))"
   ]
  },
  {
   "cell_type": "code",
   "execution_count": 4,
   "metadata": {
    "colab": {
     "base_uri": "https://localhost:8080/"
    },
    "executionInfo": {
     "elapsed": 195,
     "status": "ok",
     "timestamp": 1684980846559,
     "user": {
      "displayName": "Virmar Sosa Boulton",
      "userId": "02079861121357762556"
     },
     "user_tz": 240
    },
    "id": "xXFSLE0opPzD",
    "outputId": "ce7f9d9d-6ad6-4693-8a8e-deb0e0e0dc6a"
   },
   "outputs": [
    {
     "data": {
      "text/plain": [
       "T3     27037\n",
       "T4      1542\n",
       "T6      1216\n",
       "T5      1173\n",
       "T19     1065\n",
       "T8       737\n",
       "T7       725\n",
       "T10      528\n",
       "T9       156\n",
       "T13       66\n",
       "T12       27\n",
       "T2        16\n",
       "T25        3\n",
       "T14        3\n",
       "T29        2\n",
       "T15        2\n",
       "T17        1\n",
       "Name: APPLICATION_TYPE, dtype: int64"
      ]
     },
     "execution_count": 4,
     "metadata": {},
     "output_type": "execute_result"
    }
   ],
   "source": [
    "# Look at APPLICATION_TYPE value counts for binning\n",
    "app_counts = application_df['APPLICATION_TYPE'].value_counts()\n",
    "app_counts"
   ]
  },
  {
   "cell_type": "code",
   "execution_count": 5,
   "metadata": {
    "colab": {
     "base_uri": "https://localhost:8080/"
    },
    "executionInfo": {
     "elapsed": 305,
     "status": "ok",
     "timestamp": 1684980846861,
     "user": {
      "displayName": "Virmar Sosa Boulton",
      "userId": "02079861121357762556"
     },
     "user_tz": 240
    },
    "id": "T-u_VQUkpPzE",
    "outputId": "b5b9619c-7a3d-4cdd-f227-e6d97ed214dd"
   },
   "outputs": [
    {
     "data": {
      "text/plain": [
       "T3       27037\n",
       "T4        1542\n",
       "T6        1216\n",
       "T5        1173\n",
       "T19       1065\n",
       "T8         737\n",
       "T7         725\n",
       "T10        528\n",
       "Other      276\n",
       "Name: APPLICATION_TYPE, dtype: int64"
      ]
     },
     "execution_count": 5,
     "metadata": {},
     "output_type": "execute_result"
    }
   ],
   "source": [
    "# Choose a cutoff value and create a list of application types to be replaced\n",
    "# use the variable name `application_types_to_replace`\n",
    "application_types_to_replace = list(app_counts[app_counts<500].index)\n",
    "\n",
    "# Replace in dataframe\n",
    "for app in application_types_to_replace:\n",
    "    application_df['APPLICATION_TYPE'] = application_df['APPLICATION_TYPE'].replace(app,\"Other\")\n",
    "\n",
    "# Check to make sure binning was successful\n",
    "application_df['APPLICATION_TYPE'].value_counts()"
   ]
  },
  {
   "cell_type": "code",
   "execution_count": 6,
   "metadata": {
    "executionInfo": {
     "elapsed": 4,
     "status": "ok",
     "timestamp": 1684980846862,
     "user": {
      "displayName": "Virmar Sosa Boulton",
      "userId": "02079861121357762556"
     },
     "user_tz": 240
    },
    "id": "8NPmpJyhpPzE"
   },
   "outputs": [],
   "source": [
    "# Look at CLASSIFICATION value counts for binning\n",
    "classification_counts = application_df['CLASSIFICATION'].value_counts()"
   ]
  },
  {
   "cell_type": "code",
   "execution_count": 7,
   "metadata": {
    "colab": {
     "base_uri": "https://localhost:8080/"
    },
    "executionInfo": {
     "elapsed": 4,
     "status": "ok",
     "timestamp": 1684980846862,
     "user": {
      "displayName": "Virmar Sosa Boulton",
      "userId": "02079861121357762556"
     },
     "user_tz": 240
    },
    "id": "r16K3ElDpPzE",
    "outputId": "72d53fc0-a3ed-4c3f-eeea-4c8835353d2a"
   },
   "outputs": [
    {
     "data": {
      "text/plain": [
       "C1000    17326\n",
       "C2000     6074\n",
       "C1200     4837\n",
       "C3000     1918\n",
       "C2100     1883\n",
       "C7000      777\n",
       "C1700      287\n",
       "C4000      194\n",
       "C5000      116\n",
       "C1270      114\n",
       "C2700      104\n",
       "C2800       95\n",
       "C7100       75\n",
       "C1300       58\n",
       "C1280       50\n",
       "C1230       36\n",
       "C1400       34\n",
       "C7200       32\n",
       "C2300       32\n",
       "C1240       30\n",
       "C8000       20\n",
       "C7120       18\n",
       "C1500       16\n",
       "C1800       15\n",
       "C6000       15\n",
       "C1250       14\n",
       "C8200       11\n",
       "C1238       10\n",
       "C1278       10\n",
       "C1235        9\n",
       "C1237        9\n",
       "C7210        7\n",
       "C2400        6\n",
       "C1720        6\n",
       "C4100        6\n",
       "C1257        5\n",
       "C1600        5\n",
       "C1260        3\n",
       "C2710        3\n",
       "C0           3\n",
       "C3200        2\n",
       "C1234        2\n",
       "C1246        2\n",
       "C1267        2\n",
       "C1256        2\n",
       "Name: CLASSIFICATION, dtype: int64"
      ]
     },
     "execution_count": 7,
     "metadata": {},
     "output_type": "execute_result"
    }
   ],
   "source": [
    "# You may find it helpful to look at CLASSIFICATION value counts >1\n",
    "application_df['CLASSIFICATION'].value_counts().loc[lambda x : x >1]"
   ]
  },
  {
   "cell_type": "code",
   "execution_count": 8,
   "metadata": {
    "colab": {
     "base_uri": "https://localhost:8080/"
    },
    "executionInfo": {
     "elapsed": 889,
     "status": "ok",
     "timestamp": 1684980847748,
     "user": {
      "displayName": "Virmar Sosa Boulton",
      "userId": "02079861121357762556"
     },
     "user_tz": 240
    },
    "id": "kn2EAVm7pPzF",
    "outputId": "224f65c8-4cc7-45d5-94f8-2d4a6c15e7ef"
   },
   "outputs": [
    {
     "data": {
      "text/plain": [
       "C1000    17326\n",
       "C2000     6074\n",
       "C1200     4837\n",
       "Other     2261\n",
       "C3000     1918\n",
       "C2100     1883\n",
       "Name: CLASSIFICATION, dtype: int64"
      ]
     },
     "execution_count": 8,
     "metadata": {},
     "output_type": "execute_result"
    }
   ],
   "source": [
    "# Choose a cutoff value and create a list of classifications to be replaced\n",
    "# use the variable name `classifications_to_replace`\n",
    "\n",
    "classifications_to_replace = list(classification_counts[classification_counts<1000].index)\n",
    "# Replace in dataframe\n",
    "for cls in classifications_to_replace:\n",
    "    application_df['CLASSIFICATION'] = application_df['CLASSIFICATION'].replace(cls,\"Other\")\n",
    "    \n",
    "# Check to make sure binning was successful\n",
    "application_df['CLASSIFICATION'].value_counts()"
   ]
  },
  {
   "cell_type": "code",
   "execution_count": 9,
   "metadata": {
    "colab": {
     "base_uri": "https://localhost:8080/",
     "height": 317
    },
    "executionInfo": {
     "elapsed": 10,
     "status": "ok",
     "timestamp": 1684980847748,
     "user": {
      "displayName": "Virmar Sosa Boulton",
      "userId": "02079861121357762556"
     },
     "user_tz": 240
    },
    "id": "C4xxB6xmpPzF",
    "outputId": "4ef92ffe-ca10-493d-f156-9542ee740e89"
   },
   "outputs": [
    {
     "data": {
      "text/html": [
       "<div>\n",
       "<style scoped>\n",
       "    .dataframe tbody tr th:only-of-type {\n",
       "        vertical-align: middle;\n",
       "    }\n",
       "\n",
       "    .dataframe tbody tr th {\n",
       "        vertical-align: top;\n",
       "    }\n",
       "\n",
       "    .dataframe thead th {\n",
       "        text-align: right;\n",
       "    }\n",
       "</style>\n",
       "<table border=\"1\" class=\"dataframe\">\n",
       "  <thead>\n",
       "    <tr style=\"text-align: right;\">\n",
       "      <th></th>\n",
       "      <th>STATUS</th>\n",
       "      <th>ASK_AMT</th>\n",
       "      <th>IS_SUCCESSFUL</th>\n",
       "      <th>APPLICATION_TYPE_Other</th>\n",
       "      <th>APPLICATION_TYPE_T10</th>\n",
       "      <th>APPLICATION_TYPE_T19</th>\n",
       "      <th>APPLICATION_TYPE_T3</th>\n",
       "      <th>APPLICATION_TYPE_T4</th>\n",
       "      <th>APPLICATION_TYPE_T5</th>\n",
       "      <th>APPLICATION_TYPE_T6</th>\n",
       "      <th>...</th>\n",
       "      <th>INCOME_AMT_1-9999</th>\n",
       "      <th>INCOME_AMT_10000-24999</th>\n",
       "      <th>INCOME_AMT_100000-499999</th>\n",
       "      <th>INCOME_AMT_10M-50M</th>\n",
       "      <th>INCOME_AMT_1M-5M</th>\n",
       "      <th>INCOME_AMT_25000-99999</th>\n",
       "      <th>INCOME_AMT_50M+</th>\n",
       "      <th>INCOME_AMT_5M-10M</th>\n",
       "      <th>SPECIAL_CONSIDERATIONS_N</th>\n",
       "      <th>SPECIAL_CONSIDERATIONS_Y</th>\n",
       "    </tr>\n",
       "  </thead>\n",
       "  <tbody>\n",
       "    <tr>\n",
       "      <th>0</th>\n",
       "      <td>1</td>\n",
       "      <td>5000</td>\n",
       "      <td>1</td>\n",
       "      <td>0</td>\n",
       "      <td>1</td>\n",
       "      <td>0</td>\n",
       "      <td>0</td>\n",
       "      <td>0</td>\n",
       "      <td>0</td>\n",
       "      <td>0</td>\n",
       "      <td>...</td>\n",
       "      <td>0</td>\n",
       "      <td>0</td>\n",
       "      <td>0</td>\n",
       "      <td>0</td>\n",
       "      <td>0</td>\n",
       "      <td>0</td>\n",
       "      <td>0</td>\n",
       "      <td>0</td>\n",
       "      <td>1</td>\n",
       "      <td>0</td>\n",
       "    </tr>\n",
       "    <tr>\n",
       "      <th>1</th>\n",
       "      <td>1</td>\n",
       "      <td>108590</td>\n",
       "      <td>1</td>\n",
       "      <td>0</td>\n",
       "      <td>0</td>\n",
       "      <td>0</td>\n",
       "      <td>1</td>\n",
       "      <td>0</td>\n",
       "      <td>0</td>\n",
       "      <td>0</td>\n",
       "      <td>...</td>\n",
       "      <td>1</td>\n",
       "      <td>0</td>\n",
       "      <td>0</td>\n",
       "      <td>0</td>\n",
       "      <td>0</td>\n",
       "      <td>0</td>\n",
       "      <td>0</td>\n",
       "      <td>0</td>\n",
       "      <td>1</td>\n",
       "      <td>0</td>\n",
       "    </tr>\n",
       "    <tr>\n",
       "      <th>2</th>\n",
       "      <td>1</td>\n",
       "      <td>5000</td>\n",
       "      <td>0</td>\n",
       "      <td>0</td>\n",
       "      <td>0</td>\n",
       "      <td>0</td>\n",
       "      <td>0</td>\n",
       "      <td>0</td>\n",
       "      <td>1</td>\n",
       "      <td>0</td>\n",
       "      <td>...</td>\n",
       "      <td>0</td>\n",
       "      <td>0</td>\n",
       "      <td>0</td>\n",
       "      <td>0</td>\n",
       "      <td>0</td>\n",
       "      <td>0</td>\n",
       "      <td>0</td>\n",
       "      <td>0</td>\n",
       "      <td>1</td>\n",
       "      <td>0</td>\n",
       "    </tr>\n",
       "    <tr>\n",
       "      <th>3</th>\n",
       "      <td>1</td>\n",
       "      <td>6692</td>\n",
       "      <td>1</td>\n",
       "      <td>0</td>\n",
       "      <td>0</td>\n",
       "      <td>0</td>\n",
       "      <td>1</td>\n",
       "      <td>0</td>\n",
       "      <td>0</td>\n",
       "      <td>0</td>\n",
       "      <td>...</td>\n",
       "      <td>0</td>\n",
       "      <td>1</td>\n",
       "      <td>0</td>\n",
       "      <td>0</td>\n",
       "      <td>0</td>\n",
       "      <td>0</td>\n",
       "      <td>0</td>\n",
       "      <td>0</td>\n",
       "      <td>1</td>\n",
       "      <td>0</td>\n",
       "    </tr>\n",
       "    <tr>\n",
       "      <th>4</th>\n",
       "      <td>1</td>\n",
       "      <td>142590</td>\n",
       "      <td>1</td>\n",
       "      <td>0</td>\n",
       "      <td>0</td>\n",
       "      <td>0</td>\n",
       "      <td>1</td>\n",
       "      <td>0</td>\n",
       "      <td>0</td>\n",
       "      <td>0</td>\n",
       "      <td>...</td>\n",
       "      <td>0</td>\n",
       "      <td>0</td>\n",
       "      <td>1</td>\n",
       "      <td>0</td>\n",
       "      <td>0</td>\n",
       "      <td>0</td>\n",
       "      <td>0</td>\n",
       "      <td>0</td>\n",
       "      <td>1</td>\n",
       "      <td>0</td>\n",
       "    </tr>\n",
       "  </tbody>\n",
       "</table>\n",
       "<p>5 rows × 44 columns</p>\n",
       "</div>"
      ],
      "text/plain": [
       "   STATUS  ASK_AMT  IS_SUCCESSFUL  APPLICATION_TYPE_Other  \\\n",
       "0       1     5000              1                       0   \n",
       "1       1   108590              1                       0   \n",
       "2       1     5000              0                       0   \n",
       "3       1     6692              1                       0   \n",
       "4       1   142590              1                       0   \n",
       "\n",
       "   APPLICATION_TYPE_T10  APPLICATION_TYPE_T19  APPLICATION_TYPE_T3  \\\n",
       "0                     1                     0                    0   \n",
       "1                     0                     0                    1   \n",
       "2                     0                     0                    0   \n",
       "3                     0                     0                    1   \n",
       "4                     0                     0                    1   \n",
       "\n",
       "   APPLICATION_TYPE_T4  APPLICATION_TYPE_T5  APPLICATION_TYPE_T6  ...  \\\n",
       "0                    0                    0                    0  ...   \n",
       "1                    0                    0                    0  ...   \n",
       "2                    0                    1                    0  ...   \n",
       "3                    0                    0                    0  ...   \n",
       "4                    0                    0                    0  ...   \n",
       "\n",
       "   INCOME_AMT_1-9999  INCOME_AMT_10000-24999  INCOME_AMT_100000-499999  \\\n",
       "0                  0                       0                         0   \n",
       "1                  1                       0                         0   \n",
       "2                  0                       0                         0   \n",
       "3                  0                       1                         0   \n",
       "4                  0                       0                         1   \n",
       "\n",
       "   INCOME_AMT_10M-50M  INCOME_AMT_1M-5M  INCOME_AMT_25000-99999  \\\n",
       "0                   0                 0                       0   \n",
       "1                   0                 0                       0   \n",
       "2                   0                 0                       0   \n",
       "3                   0                 0                       0   \n",
       "4                   0                 0                       0   \n",
       "\n",
       "   INCOME_AMT_50M+  INCOME_AMT_5M-10M  SPECIAL_CONSIDERATIONS_N  \\\n",
       "0                0                  0                         1   \n",
       "1                0                  0                         1   \n",
       "2                0                  0                         1   \n",
       "3                0                  0                         1   \n",
       "4                0                  0                         1   \n",
       "\n",
       "   SPECIAL_CONSIDERATIONS_Y  \n",
       "0                         0  \n",
       "1                         0  \n",
       "2                         0  \n",
       "3                         0  \n",
       "4                         0  \n",
       "\n",
       "[5 rows x 44 columns]"
      ]
     },
     "execution_count": 9,
     "metadata": {},
     "output_type": "execute_result"
    }
   ],
   "source": [
    "# Convert categorical data to numeric with `pd.get_dummies`\n",
    "application_dummies = pd.get_dummies(application_df)\n",
    "application_dummies.head()"
   ]
  },
  {
   "cell_type": "code",
   "execution_count": 10,
   "metadata": {
    "executionInfo": {
     "elapsed": 10,
     "status": "ok",
     "timestamp": 1684980847749,
     "user": {
      "displayName": "Virmar Sosa Boulton",
      "userId": "02079861121357762556"
     },
     "user_tz": 240
    },
    "id": "WpNcSkabpPzG"
   },
   "outputs": [],
   "source": [
    "# Split our preprocessed data into our features and target arrays\n",
    "X = application_dummies.drop('IS_SUCCESSFUL', axis=1).values\n",
    "y = application_dummies['IS_SUCCESSFUL'].values\n",
    "\n",
    "# Split the preprocessed data into a training and testing dataset\n",
    "X_train, X_test, y_train, y_test = train_test_split(X, y, random_state = 42)"
   ]
  },
  {
   "cell_type": "code",
   "execution_count": 11,
   "metadata": {
    "executionInfo": {
     "elapsed": 9,
     "status": "ok",
     "timestamp": 1684980847749,
     "user": {
      "displayName": "Virmar Sosa Boulton",
      "userId": "02079861121357762556"
     },
     "user_tz": 240
    },
    "id": "-s6SpPrspPzG"
   },
   "outputs": [],
   "source": [
    "# Create a StandardScaler instances\n",
    "scaler = StandardScaler()\n",
    "\n",
    "# Fit the StandardScaler\n",
    "X_scaler = scaler.fit(X_train)\n",
    "\n",
    "# Scale the data\n",
    "X_train_scaled = X_scaler.transform(X_train)\n",
    "X_test_scaled = X_scaler.transform(X_test)"
   ]
  },
  {
   "cell_type": "markdown",
   "metadata": {
    "id": "vbuoXwiTpPzG"
   },
   "source": [
    "## Compile, Train and Evaluate the Model"
   ]
  },
  {
   "cell_type": "code",
   "execution_count": 12,
   "metadata": {
    "colab": {
     "base_uri": "https://localhost:8080/"
    },
    "executionInfo": {
     "elapsed": 9,
     "status": "ok",
     "timestamp": 1684980847749,
     "user": {
      "displayName": "Virmar Sosa Boulton",
      "userId": "02079861121357762556"
     },
     "user_tz": 240
    },
    "id": "1m3m2T8SpPzH",
    "outputId": "fd211cbb-c738-485c-c29d-ba32defdb5f0"
   },
   "outputs": [
    {
     "name": "stdout",
     "output_type": "stream",
     "text": [
      "Model: \"sequential\"\n",
      "_________________________________________________________________\n",
      " Layer (type)                Output Shape              Param #   \n",
      "=================================================================\n",
      " dense (Dense)               (None, 9)                 396       \n",
      "                                                                 \n",
      " dense_1 (Dense)             (None, 18)                180       \n",
      "                                                                 \n",
      " dense_2 (Dense)             (None, 1)                 19        \n",
      "                                                                 \n",
      "=================================================================\n",
      "Total params: 595\n",
      "Trainable params: 595\n",
      "Non-trainable params: 0\n",
      "_________________________________________________________________\n"
     ]
    }
   ],
   "source": [
    "# Define the model - deep neural net, i.e., the number of input features and hidden nodes for each layer.\n",
    "number_input_features = len(X_train_scaled[0])\n",
    "hidden_nodes_layer1 = 9\n",
    "hidden_nodes_layer2 = 18\n",
    "\n",
    "nn = tf.keras.models.Sequential()\n",
    "\n",
    "# First hidden layer\n",
    "nn.add(tf.keras.layers.Dense(units=hidden_nodes_layer1, input_dim=number_input_features, activation=\"relu\"))\n",
    "\n",
    "# Second hidden layer\n",
    "nn.add(tf.keras.layers.Dense(units=hidden_nodes_layer2, activation=\"relu\"))\n",
    "\n",
    "# Output layer\n",
    "nn.add(tf.keras.layers.Dense(units=1, activation=\"sigmoid\"))\n",
    "\n",
    "# Check the structure of the model\n",
    "nn.summary()"
   ]
  },
  {
   "cell_type": "code",
   "execution_count": 13,
   "metadata": {
    "executionInfo": {
     "elapsed": 6,
     "status": "ok",
     "timestamp": 1684980847750,
     "user": {
      "displayName": "Virmar Sosa Boulton",
      "userId": "02079861121357762556"
     },
     "user_tz": 240
    },
    "id": "sT9TKAe3pPzH"
   },
   "outputs": [],
   "source": [
    "# Compile the model\n",
    "nn.compile(loss=\"binary_crossentropy\", optimizer=\"adam\", metrics=[\"accuracy\"])"
   ]
  },
  {
   "cell_type": "code",
   "execution_count": 14,
   "metadata": {
    "colab": {
     "base_uri": "https://localhost:8080/"
    },
    "executionInfo": {
     "elapsed": 207012,
     "status": "ok",
     "timestamp": 1684981054756,
     "user": {
      "displayName": "Virmar Sosa Boulton",
      "userId": "02079861121357762556"
     },
     "user_tz": 240
    },
    "id": "zPvgAfThpPzH",
    "outputId": "b5510e54-425f-457a-ff09-38829d22e580"
   },
   "outputs": [
    {
     "name": "stdout",
     "output_type": "stream",
     "text": [
      "Epoch 1/100\n",
      "804/804 [==============================] - 1s 944us/step - loss: 0.5957 - accuracy: 0.6981\n",
      "Epoch 2/100\n",
      "804/804 [==============================] - 1s 900us/step - loss: 0.5638 - accuracy: 0.7234\n",
      "Epoch 3/100\n",
      "804/804 [==============================] - 1s 932us/step - loss: 0.5572 - accuracy: 0.7275\n",
      "Epoch 4/100\n",
      "804/804 [==============================] - 1s 1ms/step - loss: 0.5543 - accuracy: 0.7283\n",
      "Epoch 5/100\n",
      "804/804 [==============================] - 1s 1ms/step - loss: 0.5523 - accuracy: 0.7276\n",
      "Epoch 6/100\n",
      "804/804 [==============================] - 1s 940us/step - loss: 0.5514 - accuracy: 0.7276\n",
      "Epoch 7/100\n",
      "804/804 [==============================] - 1s 971us/step - loss: 0.5503 - accuracy: 0.7290\n",
      "Epoch 8/100\n",
      "804/804 [==============================] - 1s 865us/step - loss: 0.5498 - accuracy: 0.7287\n",
      "Epoch 9/100\n",
      "804/804 [==============================] - 1s 1ms/step - loss: 0.5498 - accuracy: 0.7291\n",
      "Epoch 10/100\n",
      "804/804 [==============================] - 1s 783us/step - loss: 0.5488 - accuracy: 0.7289\n",
      "Epoch 11/100\n",
      "804/804 [==============================] - 1s 804us/step - loss: 0.5484 - accuracy: 0.7292\n",
      "Epoch 12/100\n",
      "804/804 [==============================] - 1s 772us/step - loss: 0.5481 - accuracy: 0.7295\n",
      "Epoch 13/100\n",
      "804/804 [==============================] - 1s 776us/step - loss: 0.5478 - accuracy: 0.7295\n",
      "Epoch 14/100\n",
      "804/804 [==============================] - 1s 797us/step - loss: 0.5476 - accuracy: 0.7310\n",
      "Epoch 15/100\n",
      "804/804 [==============================] - 1s 792us/step - loss: 0.5475 - accuracy: 0.7299\n",
      "Epoch 16/100\n",
      "804/804 [==============================] - 1s 778us/step - loss: 0.5474 - accuracy: 0.7302\n",
      "Epoch 17/100\n",
      "804/804 [==============================] - 1s 802us/step - loss: 0.5473 - accuracy: 0.7317\n",
      "Epoch 18/100\n",
      "804/804 [==============================] - 1s 849us/step - loss: 0.5470 - accuracy: 0.7301\n",
      "Epoch 19/100\n",
      "804/804 [==============================] - 1s 870us/step - loss: 0.5468 - accuracy: 0.7307\n",
      "Epoch 20/100\n",
      "804/804 [==============================] - 1s 883us/step - loss: 0.5469 - accuracy: 0.7320\n",
      "Epoch 21/100\n",
      "804/804 [==============================] - 1s 890us/step - loss: 0.5466 - accuracy: 0.7325\n",
      "Epoch 22/100\n",
      "804/804 [==============================] - 1s 799us/step - loss: 0.5467 - accuracy: 0.7314\n",
      "Epoch 23/100\n",
      "804/804 [==============================] - 1s 994us/step - loss: 0.5464 - accuracy: 0.7332\n",
      "Epoch 24/100\n",
      "804/804 [==============================] - 1s 793us/step - loss: 0.5460 - accuracy: 0.7330\n",
      "Epoch 25/100\n",
      "804/804 [==============================] - 1s 780us/step - loss: 0.5463 - accuracy: 0.7311\n",
      "Epoch 26/100\n",
      "804/804 [==============================] - 1s 845us/step - loss: 0.5464 - accuracy: 0.7320\n",
      "Epoch 27/100\n",
      "804/804 [==============================] - 1s 919us/step - loss: 0.5459 - accuracy: 0.7324\n",
      "Epoch 28/100\n",
      "804/804 [==============================] - 1s 960us/step - loss: 0.5461 - accuracy: 0.7317\n",
      "Epoch 29/100\n",
      "804/804 [==============================] - 1s 938us/step - loss: 0.5460 - accuracy: 0.7322\n",
      "Epoch 30/100\n",
      "804/804 [==============================] - 1s 989us/step - loss: 0.5458 - accuracy: 0.7321\n",
      "Epoch 31/100\n",
      "804/804 [==============================] - 1s 809us/step - loss: 0.5459 - accuracy: 0.7331\n",
      "Epoch 32/100\n",
      "804/804 [==============================] - 1s 791us/step - loss: 0.5459 - accuracy: 0.7340\n",
      "Epoch 33/100\n",
      "804/804 [==============================] - 1s 780us/step - loss: 0.5453 - accuracy: 0.7330\n",
      "Epoch 34/100\n",
      "804/804 [==============================] - 1s 853us/step - loss: 0.5454 - accuracy: 0.7339\n",
      "Epoch 35/100\n",
      "804/804 [==============================] - 1s 851us/step - loss: 0.5453 - accuracy: 0.7326\n",
      "Epoch 36/100\n",
      "804/804 [==============================] - 1s 804us/step - loss: 0.5453 - accuracy: 0.7325\n",
      "Epoch 37/100\n",
      "804/804 [==============================] - 1s 829us/step - loss: 0.5450 - accuracy: 0.7334\n",
      "Epoch 38/100\n",
      "804/804 [==============================] - 1s 891us/step - loss: 0.5451 - accuracy: 0.7320\n",
      "Epoch 39/100\n",
      "804/804 [==============================] - 1s 921us/step - loss: 0.5447 - accuracy: 0.7333\n",
      "Epoch 40/100\n",
      "804/804 [==============================] - 1s 935us/step - loss: 0.5450 - accuracy: 0.7334\n",
      "Epoch 41/100\n",
      "804/804 [==============================] - 1s 783us/step - loss: 0.5447 - accuracy: 0.7340\n",
      "Epoch 42/100\n",
      "804/804 [==============================] - 1s 781us/step - loss: 0.5451 - accuracy: 0.7327\n",
      "Epoch 43/100\n",
      "804/804 [==============================] - 1s 837us/step - loss: 0.5446 - accuracy: 0.7339\n",
      "Epoch 44/100\n",
      "804/804 [==============================] - 1s 782us/step - loss: 0.5447 - accuracy: 0.7327\n",
      "Epoch 45/100\n",
      "804/804 [==============================] - 1s 777us/step - loss: 0.5447 - accuracy: 0.7324\n",
      "Epoch 46/100\n",
      "804/804 [==============================] - 1s 779us/step - loss: 0.5448 - accuracy: 0.7334\n",
      "Epoch 47/100\n",
      "804/804 [==============================] - 1s 798us/step - loss: 0.5446 - accuracy: 0.7323\n",
      "Epoch 48/100\n",
      "804/804 [==============================] - 1s 819us/step - loss: 0.5445 - accuracy: 0.7342\n",
      "Epoch 49/100\n",
      "804/804 [==============================] - 1s 838us/step - loss: 0.5443 - accuracy: 0.7337\n",
      "Epoch 50/100\n",
      "804/804 [==============================] - 1s 1ms/step - loss: 0.5441 - accuracy: 0.7331\n",
      "Epoch 51/100\n",
      "804/804 [==============================] - 1s 1ms/step - loss: 0.5442 - accuracy: 0.7333\n",
      "Epoch 52/100\n",
      "804/804 [==============================] - 1s 1ms/step - loss: 0.5441 - accuracy: 0.7339\n",
      "Epoch 53/100\n",
      "804/804 [==============================] - 1s 983us/step - loss: 0.5437 - accuracy: 0.7338\n",
      "Epoch 54/100\n",
      "804/804 [==============================] - 1s 840us/step - loss: 0.5442 - accuracy: 0.7336\n",
      "Epoch 55/100\n",
      "804/804 [==============================] - 1s 771us/step - loss: 0.5440 - accuracy: 0.7333\n",
      "Epoch 56/100\n",
      "804/804 [==============================] - 1s 763us/step - loss: 0.5441 - accuracy: 0.7346\n",
      "Epoch 57/100\n",
      "804/804 [==============================] - 1s 773us/step - loss: 0.5439 - accuracy: 0.7337\n",
      "Epoch 58/100\n",
      "804/804 [==============================] - 1s 783us/step - loss: 0.5438 - accuracy: 0.7348\n",
      "Epoch 59/100\n",
      "804/804 [==============================] - 1s 773us/step - loss: 0.5438 - accuracy: 0.7334\n",
      "Epoch 60/100\n",
      "804/804 [==============================] - 1s 775us/step - loss: 0.5440 - accuracy: 0.7332\n",
      "Epoch 61/100\n",
      "804/804 [==============================] - 1s 777us/step - loss: 0.5439 - accuracy: 0.7356\n",
      "Epoch 62/100\n",
      "804/804 [==============================] - 1s 757us/step - loss: 0.5435 - accuracy: 0.7338\n",
      "Epoch 63/100\n",
      "804/804 [==============================] - 1s 779us/step - loss: 0.5436 - accuracy: 0.7333\n",
      "Epoch 64/100\n",
      "804/804 [==============================] - 1s 785us/step - loss: 0.5436 - accuracy: 0.7349\n",
      "Epoch 65/100\n",
      "804/804 [==============================] - 1s 929us/step - loss: 0.5435 - accuracy: 0.7336\n",
      "Epoch 66/100\n",
      "804/804 [==============================] - 1s 776us/step - loss: 0.5434 - accuracy: 0.7331\n",
      "Epoch 67/100\n",
      "804/804 [==============================] - 1s 802us/step - loss: 0.5433 - accuracy: 0.7350\n",
      "Epoch 68/100\n",
      "804/804 [==============================] - 1s 770us/step - loss: 0.5434 - accuracy: 0.7341\n",
      "Epoch 69/100\n",
      "804/804 [==============================] - 1s 789us/step - loss: 0.5434 - accuracy: 0.7341\n",
      "Epoch 70/100\n",
      "804/804 [==============================] - 1s 771us/step - loss: 0.5433 - accuracy: 0.7341\n",
      "Epoch 71/100\n",
      "804/804 [==============================] - 1s 784us/step - loss: 0.5432 - accuracy: 0.7345\n",
      "Epoch 72/100\n",
      "804/804 [==============================] - 1s 779us/step - loss: 0.5434 - accuracy: 0.7332\n",
      "Epoch 73/100\n",
      "804/804 [==============================] - 1s 876us/step - loss: 0.5434 - accuracy: 0.7348\n",
      "Epoch 74/100\n",
      "804/804 [==============================] - 1s 912us/step - loss: 0.5431 - accuracy: 0.7339\n",
      "Epoch 75/100\n",
      "804/804 [==============================] - 1s 944us/step - loss: 0.5434 - accuracy: 0.7332\n",
      "Epoch 76/100\n",
      "804/804 [==============================] - 1s 924us/step - loss: 0.5431 - accuracy: 0.7345\n",
      "Epoch 77/100\n",
      "804/804 [==============================] - 1s 937us/step - loss: 0.5431 - accuracy: 0.7352\n",
      "Epoch 78/100\n",
      "804/804 [==============================] - 1s 770us/step - loss: 0.5433 - accuracy: 0.7332\n",
      "Epoch 79/100\n",
      "804/804 [==============================] - 1s 782us/step - loss: 0.5430 - accuracy: 0.7342\n"
     ]
    },
    {
     "name": "stdout",
     "output_type": "stream",
     "text": [
      "Epoch 80/100\n",
      "804/804 [==============================] - 1s 832us/step - loss: 0.5431 - accuracy: 0.7344\n",
      "Epoch 81/100\n",
      "804/804 [==============================] - 1s 758us/step - loss: 0.5431 - accuracy: 0.7343\n",
      "Epoch 82/100\n",
      "804/804 [==============================] - 1s 764us/step - loss: 0.5431 - accuracy: 0.7352\n",
      "Epoch 83/100\n",
      "804/804 [==============================] - 1s 752us/step - loss: 0.5429 - accuracy: 0.7345\n",
      "Epoch 84/100\n",
      "804/804 [==============================] - 1s 756us/step - loss: 0.5425 - accuracy: 0.7348\n",
      "Epoch 85/100\n",
      "804/804 [==============================] - 1s 748us/step - loss: 0.5430 - accuracy: 0.7338\n",
      "Epoch 86/100\n",
      "804/804 [==============================] - 1s 750us/step - loss: 0.5427 - accuracy: 0.7351\n",
      "Epoch 87/100\n",
      "804/804 [==============================] - 1s 751us/step - loss: 0.5428 - accuracy: 0.7347\n",
      "Epoch 88/100\n",
      "804/804 [==============================] - 1s 766us/step - loss: 0.5429 - accuracy: 0.7338\n",
      "Epoch 89/100\n",
      "804/804 [==============================] - 1s 825us/step - loss: 0.5430 - accuracy: 0.7341\n",
      "Epoch 90/100\n",
      "804/804 [==============================] - 1s 801us/step - loss: 0.5426 - accuracy: 0.7344\n",
      "Epoch 91/100\n",
      "804/804 [==============================] - 1s 773us/step - loss: 0.5430 - accuracy: 0.7345\n",
      "Epoch 92/100\n",
      "804/804 [==============================] - 1s 762us/step - loss: 0.5425 - accuracy: 0.7343\n",
      "Epoch 93/100\n",
      "804/804 [==============================] - 1s 762us/step - loss: 0.5430 - accuracy: 0.7344\n",
      "Epoch 94/100\n",
      "804/804 [==============================] - 1s 779us/step - loss: 0.5426 - accuracy: 0.7345\n",
      "Epoch 95/100\n",
      "804/804 [==============================] - 1s 779us/step - loss: 0.5428 - accuracy: 0.7345\n",
      "Epoch 96/100\n",
      "804/804 [==============================] - 1s 764us/step - loss: 0.5424 - accuracy: 0.7351\n",
      "Epoch 97/100\n",
      "804/804 [==============================] - 1s 833us/step - loss: 0.5427 - accuracy: 0.7338\n",
      "Epoch 98/100\n",
      "804/804 [==============================] - 1s 867us/step - loss: 0.5426 - accuracy: 0.7356\n",
      "Epoch 99/100\n",
      "804/804 [==============================] - 1s 907us/step - loss: 0.5426 - accuracy: 0.7349\n",
      "Epoch 100/100\n",
      "804/804 [==============================] - 1s 929us/step - loss: 0.5422 - accuracy: 0.7348\n"
     ]
    }
   ],
   "source": [
    "# Train the model\n",
    "fit_model = nn.fit(X_train_scaled,y_train,epochs=100)"
   ]
  },
  {
   "cell_type": "code",
   "execution_count": 15,
   "metadata": {
    "colab": {
     "base_uri": "https://localhost:8080/"
    },
    "executionInfo": {
     "elapsed": 186,
     "status": "ok",
     "timestamp": 1684981054940,
     "user": {
      "displayName": "Virmar Sosa Boulton",
      "userId": "02079861121357762556"
     },
     "user_tz": 240
    },
    "id": "46ayfNklpPzH",
    "outputId": "e0511b2d-b2ec-42a7-bce5-1709ee99f4af"
   },
   "outputs": [
    {
     "name": "stdout",
     "output_type": "stream",
     "text": [
      "268/268 - 0s - loss: 0.5531 - accuracy: 0.7283 - 284ms/epoch - 1ms/step\n",
      "Loss: 0.5531479120254517, Accuracy: 0.7282798886299133\n"
     ]
    }
   ],
   "source": [
    "# Evaluate the model using the test data\n",
    "model_loss, model_accuracy = nn.evaluate(X_test_scaled,y_test,verbose=2)\n",
    "print(f\"Loss: {model_loss}, Accuracy: {model_accuracy}\")"
   ]
  },
  {
   "cell_type": "code",
   "execution_count": 16,
   "metadata": {
    "colab": {
     "base_uri": "https://localhost:8080/",
     "height": 447
    },
    "executionInfo": {
     "elapsed": 196,
     "status": "ok",
     "timestamp": 1684981055134,
     "user": {
      "displayName": "Virmar Sosa Boulton",
      "userId": "02079861121357762556"
     },
     "user_tz": 240
    },
    "id": "CLPlH2qCroZC",
    "outputId": "a2ec9d2d-6cf6-40dc-c5e3-aad56a8f7ea0"
   },
   "outputs": [
    {
     "data": {
      "text/plain": [
       "<AxesSubplot: >"
      ]
     },
     "execution_count": 16,
     "metadata": {},
     "output_type": "execute_result"
    },
    {
     "data": {
      "image/png": "[encoded data removed]",
      "text/plain": [
       "<Figure size 640x480 with 1 Axes>"
      ]
     },
     "metadata": {},
     "output_type": "display_data"
    }
   ],
   "source": [
    "# plotting the accuracy\n",
    "history_df = pd.DataFrame(fit_model.history, index = range(1, len(fit_model.history['loss'])+1))\n",
    "history_df.plot(y = 'accuracy')"
   ]
  },
  {
   "cell_type": "code",
   "execution_count": 17,
   "metadata": {
    "colab": {
     "base_uri": "https://localhost:8080/",
     "height": 447
    },
    "executionInfo": {
     "elapsed": 336,
     "status": "ok",
     "timestamp": 1684981055468,
     "user": {
      "displayName": "Virmar Sosa Boulton",
      "userId": "02079861121357762556"
     },
     "user_tz": 240
    },
    "id": "VYC_t8gRrspn",
    "outputId": "1161750b-036e-4df0-d910-71f1aedaacdc"
   },
   "outputs": [
    {
     "data": {
      "text/plain": [
       "<AxesSubplot: >"
      ]
     },
     "execution_count": 17,
     "metadata": {},
     "output_type": "execute_result"
    },
    {
     "data": {
      "image/png": "[encoded data removed]",
      "text/plain": [
       "<Figure size 640x480 with 1 Axes>"
      ]
     },
     "metadata": {},
     "output_type": "display_data"
    }
   ],
   "source": [
    "history_df.plot(y=\"loss\")"
   ]
  },
  {
   "cell_type": "code",
   "execution_count": 18,
   "metadata": {
    "executionInfo": {
     "elapsed": 5,
     "status": "ok",
     "timestamp": 1684981055469,
     "user": {
      "displayName": "Virmar Sosa Boulton",
      "userId": "02079861121357762556"
     },
     "user_tz": 240
    },
    "id": "zDyjWUFRpPzI"
   },
   "outputs": [],
   "source": [
    "# Export our model to HDF5 file\n",
    "nn.save('Models/AlphabetSoupCharity_Optimization_1.h5')"
   ]
  }
 ],
 "metadata": {
  "colab": {
   "provenance": []
  },
  "kernelspec": {
   "display_name": "Python 3 (ipykernel)",
   "language": "python",
   "name": "python3"
  },
  "language_info": {
   "codemirror_mode": {
    "name": "ipython",
    "version": 3
   },
   "file_extension": ".py",
   "mimetype": "text/x-python",
   "name": "python",
   "nbconvert_exporter": "python",
   "pygments_lexer": "ipython3",
   "version": "3.9.13"
  },
  "vscode": {
   "interpreter": {
    "hash": "31f2aee4e71d21fbe5cf8b01ff0e069b9275f58929596ceb00d14d90e3e16cd6"
   }
  }
 },
 "nbformat": 4,
 "nbformat_minor": 1
}
